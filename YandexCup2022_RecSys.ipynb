{
 "cells": [
  {
   "cell_type": "markdown",
   "id": "2ffea9b7",
   "metadata": {},
   "source": [
    "# Yandex Cup 22\n",
    "\n",
    "RecSys - Like prediction\n",
    "\n",
    "Важной задачей музыкальных рекомендаций является поиск неизвестных пользователю треков, которые ему понравятся. В решении этой задачи важную роль играют модели, анализирующие явный фидбэк пользователя. Явным фидбэком мы считаем такие события как like или dislike, поставленный на трек. Такие действия как play и skip также используются в рекомендациях, но они дают меньше информации о предпочтениях пользователя. Кроме того, гораздо важнее найти трек, которому пользователь поставит лайк, чем трек, который пользователь просто послушает. В этой задаче от вас требуется по предыдущим лайкам предсказать следующий трек, которому пользователь поставит лайк.\n",
    "\n",
    "Формат ввода\n",
    "Прдоставленные вам данные вы можете найти по ссылке\n",
    "В архиве likes_data.zip три файла:\n",
    " - train - обучающий набор данных. Каждая строка - последовательность id треков, которые лайкнул один пользователь. Гарантируется, что лайки даны в той последовательности, в которой их ставил пользователь.\n",
    " - test - набор тестовых данных. Имеет точно такой же формат, но в каждой строке не хватает последнего лайка, который надо предсказать.\n",
    "Тестовые данные разбита на public и private. Во время соревнования вы будет видеть результаты только на public данных. Финальный подсчет баллов в будет происходить на private данных.\n",
    " - track_artists.csv - информация о исполнителях треков. Гарантируется, что у каждого трека есть ровно один исполнитель. Для треков, у которых фактически несколько исполнителей, мы оставили того, который считается основным исполнителем трека.\n",
    " \n",
    " \n",
    "Файл baseline.py содержит наивное решение. Обратите внимание, что это решение может выполняться больше одного часа.\n",
    "\n",
    "\n",
    "Файл score.py содержит код, который вы можете использовать, чтобы локально считать mrr для своего решения.\n",
    "Формат вывода\n",
    "\n",
    "\n",
    "В качестве решения необходимо отправить файл, в котором для каждого пользователя в отдельной строке будет не более 100 треков, разделенных пробелом.\n",
    "\n",
    "Примечания\n",
    " - В качестве метрики используется MRR@100"
   ]
  },
  {
   "cell_type": "markdown",
   "id": "9f19e096",
   "metadata": {},
   "source": [
    "## Импорты и настройки"
   ]
  },
  {
   "cell_type": "code",
   "execution_count": 1,
   "id": "a52aafba",
   "metadata": {},
   "outputs": [],
   "source": [
    "import pandas as pd\n",
    "import numpy as np\n",
    "import cupy as cp\n",
    "\n",
    "from tqdm import tqdm\n",
    "\n",
    "import score\n",
    "\n",
    "import seaborn as sns\n",
    "\n",
    "from sklearn.model_selection import train_test_split\n",
    "\n",
    "import torch\n",
    "import torch.nn as nn\n",
    "import torch.nn.functional as F\n",
    "import torch.utils.data as data_utils\n",
    "import torch.optim as optim"
   ]
  },
  {
   "cell_type": "markdown",
   "id": "c4f868da",
   "metadata": {},
   "source": [
    "## Константы"
   ]
  },
  {
   "cell_type": "code",
   "execution_count": 2,
   "id": "5e3db79e",
   "metadata": {},
   "outputs": [],
   "source": [
    "RANDOM = 1111\n",
    "RARE_LIKE_RATIO = 0.1\n",
    "EPOCH = 25\n",
    "BATCH_SIZE = 1024\n",
    "LR = 0.01"
   ]
  },
  {
   "cell_type": "markdown",
   "id": "68979fb5",
   "metadata": {},
   "source": [
    "## Функции"
   ]
  },
  {
   "cell_type": "markdown",
   "id": "248dc21f",
   "metadata": {},
   "source": [
    "### Чтения данных"
   ]
  },
  {
   "cell_type": "code",
   "execution_count": 3,
   "id": "2c48b731",
   "metadata": {},
   "outputs": [],
   "source": [
    "def read_data(file):\n",
    "    df = list()\n",
    "    df_track_stats = {}\n",
    "    with open(file) as f:\n",
    "        data = f.readlines()\n",
    "        for line in data:\n",
    "            tracks = line.strip().split(' ')\n",
    "            for track in tracks:\n",
    "                if track not in df_track_stats:\n",
    "                    df_track_stats[track] = 0\n",
    "                df_track_stats[track] += 1\n",
    "            df.append([tracks])\n",
    "    df = pd.DataFrame(df, columns=['tracks'])\n",
    "    return df, df_track_stats"
   ]
  },
  {
   "cell_type": "markdown",
   "id": "b61fc23f",
   "metadata": {},
   "source": [
    "### Добавления статистик"
   ]
  },
  {
   "cell_type": "code",
   "execution_count": 4,
   "id": "d92bf531",
   "metadata": {},
   "outputs": [],
   "source": [
    "def statistic(train_track_stats, test_track_stats, track_artists):\n",
    "    \n",
    "    train_track_stats = pd.DataFrame(zip(train_track_stats.keys(), train_track_stats.values()), columns=['trackId', 'train_track_counts'])\n",
    "    track_artists=pd.merge(track_artists,train_track_stats, on='trackId',how='outer')\n",
    "    \n",
    "    test_track_stats = pd.DataFrame(zip(test_track_stats.keys(), test_track_stats.values()), columns=['trackId', 'test_track_counts'])\n",
    "    track_artists=pd.merge(track_artists,test_track_stats, on='trackId',how='outer')    \n",
    "    # Пропуски 0, нет прослушиваний. Приведение к типу int.\n",
    "    track_artists['test_track_counts'] = track_artists['test_track_counts'].fillna(0).astype('int')\n",
    "    \n",
    "    return track_artists\n"
   ]
  },
  {
   "cell_type": "markdown",
   "id": "41b80132",
   "metadata": {},
   "source": [
    "### Разбиение `tracks` на треки"
   ]
  },
  {
   "cell_type": "code",
   "execution_count": 5,
   "id": "d240f6ef",
   "metadata": {},
   "outputs": [],
   "source": [
    "def splitting_tracks (tracks_in):\n",
    "    tracks_out = np.zeros((len(tracks_in), 256), dtype='int32')\n",
    "    for i in tqdm(range(len(tracks_in['tracks']))):\n",
    "        row_in = np.array(tracks_in['tracks'][i],dtype='int32')\n",
    "        tracks_out[i][:len(row_in)] = row_in\n",
    "    return tracks_out"
   ]
  },
  {
   "cell_type": "markdown",
   "id": "4d7ac6ab",
   "metadata": {},
   "source": [
    "### Удаление из `tracks` треков `del_track`"
   ]
  },
  {
   "cell_type": "code",
   "execution_count": 6,
   "id": "4a1d0744",
   "metadata": {},
   "outputs": [],
   "source": [
    "def tracks_del_track(track_artists_del, tracks_in):\n",
    "    \n",
    "    track_artists_del_cp = cp.array(track_artists_del.values)\n",
    "    tracks_in_cp = cp.array(tracks_in)\n",
    "    # замена удаляемых треков нулями\n",
    "    for item in tqdm(track_artists_del_cp):\n",
    "        tracks_in_cp = cp.where(tracks_in_cp != item, tracks_in_cp,0)\n",
    "    tracks_in = cp.asnumpy(tracks_in_cp)\n",
    "    \n",
    "    # перенос нулей на право, а значений на лево\n",
    "    train_tracks_out = np.zeros((len(tracks_in), 256), dtype='int32')\n",
    "    for i in tqdm(range(len(tracks_in))):\n",
    "        row = np.delete(tracks_in[i], tracks_in[i] ==0)\n",
    "        train_tracks_out[i][:len(row)] = row\n",
    "        \n",
    "    return train_tracks_out"
   ]
  },
  {
   "cell_type": "markdown",
   "id": "f4e7deef",
   "metadata": {},
   "source": [
    "### Создание таблицы `artists` из  `tracks`\n",
    "Замена id треков, на id артистов."
   ]
  },
  {
   "cell_type": "code",
   "execution_count": 7,
   "id": "37a91cfb",
   "metadata": {},
   "outputs": [],
   "source": [
    "def create_artists(tracks, track_artists):\n",
    "    \n",
    "    artists = pd.DataFrame(tracks).copy()\n",
    "    for i in tqdm(range(len(artists))):\n",
    "        for j in range(256):\n",
    "            if artists.loc[i,j] == 0:\n",
    "                break\n",
    "            artists.loc[i,j] = int(track_artists.loc[track_artists['trackId'] == artists.loc[i,j],'artistId'])\n",
    "    return artists.values"
   ]
  },
  {
   "cell_type": "markdown",
   "id": "4e9eaccd",
   "metadata": {},
   "source": [
    "### Применение словаря"
   ]
  },
  {
   "cell_type": "code",
   "execution_count": 8,
   "id": "e93dc688",
   "metadata": {},
   "outputs": [],
   "source": [
    "def vocab_use(data, vocab, column_name):\n",
    "    data_cp = cp.array(data, dtype='int32')\n",
    "    vocab_cp = cp.array(vocab[[column_name,'vocab']].values, dtype='int32')\n",
    "    for i in tqdm(range(len(vocab_cp))):\n",
    "        data_cp = cp.where(data_cp == vocab_cp[i][0], x=vocab_cp[i][1], y=data_cp)\n",
    "    return cp.asnumpy(data_cp)"
   ]
  },
  {
   "cell_type": "markdown",
   "id": "b0f81e92",
   "metadata": {},
   "source": [
    "### Обучения CBOW_Model"
   ]
  },
  {
   "cell_type": "code",
   "execution_count": 9,
   "id": "64321867",
   "metadata": {},
   "outputs": [],
   "source": [
    "def training(model, train_loader, X_valid_tensor, y_valid, EPOCH, name):\n",
    "\n",
    "    loss_fn = nn.CrossEntropyLoss()\n",
    "    optimizer = optim.Adam(model.parameters(), lr=LR)\n",
    "\n",
    "    for epoch in range(EPOCH):\n",
    "        loss_array = np.array([], dtype=float)\n",
    "        for i, batch in enumerate(train_loader):\n",
    "            optimizer.zero_grad()\n",
    "            X_batch, y_batch = batch\n",
    "            X_batch = X_batch.to('cuda')\n",
    "            y_batch = y_batch.to('cuda')\n",
    "            output, _ = model.forward(X_batch)\n",
    "    #         print(output, output.shape, output.type())\n",
    "    #         print(y_batch, y_batch.shape, y_batch.type())\n",
    "            loss =loss_fn(output, y_batch)\n",
    "            loss.backward()\n",
    "            optimizer.step()\n",
    "            loss_array = np.append(loss_array, loss.to('cpu').detach().numpy())\n",
    "        if epoch % 1 == 0:\n",
    "            model.to('cpu')\n",
    "            y_logit, _ = model.forward(X_valid_tensor)\n",
    "            y_pred = list()\n",
    "            for i in range(len(y_logit)):\n",
    "                y_pred.append(list(pd.Series(y_logit[i].detach().numpy()).sort_values(ascending=False)[:100].index))\n",
    "            mrr_score = score.calc_score_list(y_valid, y_pred) # y_valid - array[], y_pred - loggit top 100 array[array[]]\n",
    "            print(f'Epoch: {epoch}, loss: {loss_array.mean():.3f}, mrr: {mrr_score:.3f}')\n",
    "            if epoch % 1 == 0:\n",
    "                torch.save(model, f'model/model_emb_{name}_{epoch}_mrr_{mrr_score:.3f}')\n",
    "            model.to('cuda')"
   ]
  },
  {
   "cell_type": "markdown",
   "id": "e5e4e86b",
   "metadata": {},
   "source": [
    "### Предсказание CBOW_Model"
   ]
  },
  {
   "cell_type": "code",
   "execution_count": 17,
   "id": "80a292ac",
   "metadata": {},
   "outputs": [],
   "source": [
    "def predicting(model, data_loader):\n",
    "\n",
    "    logits = list()\n",
    "    model.to('cuda')\n",
    "    for batch in tqdm(enumerate(data_loader)):\n",
    "        with torch.no_grad():\n",
    "            logit, _ = model.forward(batch[1][0])\n",
    "        for i in range(1):\n",
    "            logits.append(list(pd.Series(logit[i].to('cpu').detach().numpy()).sort_values(ascending=False)[:300].index))\n",
    "\n",
    "    del batch\n",
    "    return np.array(logits)"
   ]
  },
  {
   "cell_type": "markdown",
   "id": "480ff663",
   "metadata": {},
   "source": [
    "## Подготовка признаков"
   ]
  },
  {
   "cell_type": "markdown",
   "id": "63c303d6",
   "metadata": {},
   "source": [
    "### Чтение данных\n",
    "\n",
    "`train`, `test` - DataFrame последовательностей лайков"
   ]
  },
  {
   "cell_type": "code",
   "execution_count": 8,
   "id": "1810d3a3",
   "metadata": {},
   "outputs": [
    {
     "data": {
      "text/html": [
       "<div>\n",
       "<style scoped>\n",
       "    .dataframe tbody tr th:only-of-type {\n",
       "        vertical-align: middle;\n",
       "    }\n",
       "\n",
       "    .dataframe tbody tr th {\n",
       "        vertical-align: top;\n",
       "    }\n",
       "\n",
       "    .dataframe thead th {\n",
       "        text-align: right;\n",
       "    }\n",
       "</style>\n",
       "<table border=\"1\" class=\"dataframe\">\n",
       "  <thead>\n",
       "    <tr style=\"text-align: right;\">\n",
       "      <th></th>\n",
       "      <th>tracks</th>\n",
       "    </tr>\n",
       "  </thead>\n",
       "  <tbody>\n",
       "    <tr>\n",
       "      <th>0</th>\n",
       "      <td>[333396, 267089, 155959, 353335, 414000, 33998...</td>\n",
       "    </tr>\n",
       "    <tr>\n",
       "      <th>1</th>\n",
       "      <td>[174197, 335779, 141676, 119856, 376664, 31175...</td>\n",
       "    </tr>\n",
       "  </tbody>\n",
       "</table>\n",
       "</div>"
      ],
      "text/plain": [
       "                                              tracks\n",
       "0  [333396, 267089, 155959, 353335, 414000, 33998...\n",
       "1  [174197, 335779, 141676, 119856, 376664, 31175..."
      ]
     },
     "metadata": {},
     "output_type": "display_data"
    },
    {
     "name": "stdout",
     "output_type": "stream",
     "text": [
      "(1160084, 1)\n"
     ]
    },
    {
     "data": {
      "text/html": [
       "<div>\n",
       "<style scoped>\n",
       "    .dataframe tbody tr th:only-of-type {\n",
       "        vertical-align: middle;\n",
       "    }\n",
       "\n",
       "    .dataframe tbody tr th {\n",
       "        vertical-align: top;\n",
       "    }\n",
       "\n",
       "    .dataframe thead th {\n",
       "        text-align: right;\n",
       "    }\n",
       "</style>\n",
       "<table border=\"1\" class=\"dataframe\">\n",
       "  <thead>\n",
       "    <tr style=\"text-align: right;\">\n",
       "      <th></th>\n",
       "      <th>tracks</th>\n",
       "    </tr>\n",
       "  </thead>\n",
       "  <tbody>\n",
       "    <tr>\n",
       "      <th>0</th>\n",
       "      <td>[454758, 382341, 240893, 280388, 362253, 43673...</td>\n",
       "    </tr>\n",
       "    <tr>\n",
       "      <th>1</th>\n",
       "      <td>[294661, 374689, 182272, 102025, 70927, 86844,...</td>\n",
       "    </tr>\n",
       "  </tbody>\n",
       "</table>\n",
       "</div>"
      ],
      "text/plain": [
       "                                              tracks\n",
       "0  [454758, 382341, 240893, 280388, 362253, 43673...\n",
       "1  [294661, 374689, 182272, 102025, 70927, 86844,..."
      ]
     },
     "metadata": {},
     "output_type": "display_data"
    },
    {
     "name": "stdout",
     "output_type": "stream",
     "text": [
      "(289914, 1)\n"
     ]
    }
   ],
   "source": [
    "train, train_track_stats = read_data('data/train')\n",
    "test, test_track_stats = read_data('data/test')\n",
    "display(train.head(2))\n",
    "print(train.shape)\n",
    "display(test.head(2))\n",
    "print(test.shape)"
   ]
  },
  {
   "cell_type": "markdown",
   "id": "e8e3e30e",
   "metadata": {},
   "source": [
    "`track_artists` - DataFrame связи треков и артистов"
   ]
  },
  {
   "cell_type": "code",
   "execution_count": 9,
   "id": "2aa4704e",
   "metadata": {},
   "outputs": [
    {
     "name": "stdout",
     "output_type": "stream",
     "text": [
      "Размер начальной выборки track_artists: (483275, 2)\n"
     ]
    }
   ],
   "source": [
    "track_artists = pd.read_csv('data/track_artists.csv', dtype={'trackId': object, 'artistId': object}) \n",
    "print(f'Размер начальной выборки track_artists: {track_artists.shape}')"
   ]
  },
  {
   "cell_type": "markdown",
   "id": "be6efa72",
   "metadata": {},
   "source": [
    "### Добавление статистик по трекам"
   ]
  },
  {
   "cell_type": "code",
   "execution_count": 10,
   "id": "14550319",
   "metadata": {},
   "outputs": [
    {
     "name": "stdout",
     "output_type": "stream",
     "text": [
      "<class 'pandas.core.frame.DataFrame'>\n",
      "Int64Index: 483275 entries, 0 to 483274\n",
      "Data columns (total 4 columns):\n",
      " #   Column              Non-Null Count   Dtype \n",
      "---  ------              --------------   ----- \n",
      " 0   trackId             483275 non-null  object\n",
      " 1   artistId            483275 non-null  object\n",
      " 2   train_track_counts  483275 non-null  int64 \n",
      " 3   test_track_counts   483275 non-null  int32 \n",
      "dtypes: int32(1), int64(1), object(2)\n",
      "memory usage: 16.6+ MB\n"
     ]
    }
   ],
   "source": [
    "track_artists = statistic(train_track_stats, test_track_stats, track_artists)\n",
    "del train_track_stats, test_track_stats\n",
    "track_artists.info()"
   ]
  },
  {
   "cell_type": "markdown",
   "id": "b663f06a",
   "metadata": {},
   "source": [
    "### Соотношение частотности лайков к частотности треков в `test`"
   ]
  },
  {
   "cell_type": "code",
   "execution_count": 11,
   "id": "0ac66f6d",
   "metadata": {},
   "outputs": [
    {
     "name": "stdout",
     "output_type": "stream",
     "text": [
      "Доля треков, создающая 0.1 самых редких лайков в тестовой выборке: 0.7542165433759247\n",
      "Граница количества лайков, для треков создающих 0.1 редких лайков в тестовой выборке: 23\n"
     ]
    },
    {
     "data": {
      "image/png": "[encoded data removed]",
      "text/plain": [
       "<Figure size 640x480 with 1 Axes>"
      ]
     },
     "metadata": {},
     "output_type": "display_data"
    }
   ],
   "source": [
    "track_counts_relation = list()\n",
    "like_counts_relation = list()\n",
    "len_track_artist = len(track_artists)\n",
    "like_count_sum = track_artists['test_track_counts'].sum()\n",
    "\n",
    "for i in range(200):\n",
    "    track_counts_relation.append((track_artists['test_track_counts']<i).sum()/len_track_artist)\n",
    "    like_counts_relation.append(track_artists[track_artists['test_track_counts']<i]['test_track_counts'].sum()/like_count_sum)\n",
    "track_counts_relation = np.asarray(track_counts_relation)\n",
    "like_counts_relation = np.asarray(like_counts_relation)\n",
    "\n",
    "sns.lineplot(x=range(200),y=track_counts_relation)\n",
    "sns.lineplot(x=range(200),y=like_counts_relation)\n",
    "\n",
    "rare_like_limit = (like_counts_relation < RARE_LIKE_RATIO).sum()\n",
    "\n",
    "print(f'Доля треков, создающая {RARE_LIKE_RATIO} самых редких лайков в тестовой выборке: {(track_artists[\"test_track_counts\"]<(like_counts_relation < RARE_LIKE_RATIO).sum()).sum()/len(track_artists)}')\n",
    "print(f'Граница количества лайков, для треков создающих {RARE_LIKE_RATIO} редких лайков в тестовой выборке: {rare_like_limit}')"
   ]
  },
  {
   "cell_type": "markdown",
   "id": "414d77a6",
   "metadata": {},
   "source": [
    "### Стобец `del_track` обозначает треки на удаление."
   ]
  },
  {
   "cell_type": "code",
   "execution_count": 12,
   "id": "4af1cab0",
   "metadata": {},
   "outputs": [],
   "source": [
    "track_artists['del_track']=track_artists['test_track_counts']<rare_like_limit\n",
    "track_artists_del = (track_artists[track_artists['del_track'] == True]['trackId']).astype('int32')"
   ]
  },
  {
   "cell_type": "markdown",
   "id": "c756d366",
   "metadata": {},
   "source": [
    "### Создание словаря столбец `vocab` в таблице `track_artists`"
   ]
  },
  {
   "cell_type": "code",
   "execution_count": 13,
   "id": "f2540f9d",
   "metadata": {},
   "outputs": [],
   "source": [
    "track_artists = track_artists[~track_artists['del_track']].reset_index()\n",
    "track_artists['vocab'] = list(range(1,len(track_artists)+1))"
   ]
  },
  {
   "cell_type": "markdown",
   "id": "e3f8296b",
   "metadata": {},
   "source": [
    "### Приведение типов в таблице `track_artists`"
   ]
  },
  {
   "cell_type": "code",
   "execution_count": 14,
   "id": "81e5fdd9",
   "metadata": {},
   "outputs": [],
   "source": [
    "track_artists['trackId'] = track_artists['trackId'].astype('int')\n",
    "track_artists['artistId'] = track_artists['artistId'].astype('int')"
   ]
  },
  {
   "cell_type": "raw",
   "id": "8210748c",
   "metadata": {},
   "source": [
    "#track_artists.to_csv('data/track_artists.csv', index=False)\n",
    "track_artists = pd.read_csv('data/track_artists.csv')"
   ]
  },
  {
   "cell_type": "code",
   "execution_count": 85,
   "id": "90407b06",
   "metadata": {},
   "outputs": [
    {
     "data": {
      "text/html": [
       "<div>\n",
       "<style scoped>\n",
       "    .dataframe tbody tr th:only-of-type {\n",
       "        vertical-align: middle;\n",
       "    }\n",
       "\n",
       "    .dataframe tbody tr th {\n",
       "        vertical-align: top;\n",
       "    }\n",
       "\n",
       "    .dataframe thead th {\n",
       "        text-align: right;\n",
       "    }\n",
       "</style>\n",
       "<table border=\"1\" class=\"dataframe\">\n",
       "  <thead>\n",
       "    <tr style=\"text-align: right;\">\n",
       "      <th></th>\n",
       "      <th>index</th>\n",
       "      <th>trackId</th>\n",
       "      <th>artistId</th>\n",
       "      <th>train_track_counts</th>\n",
       "      <th>test_track_counts</th>\n",
       "      <th>del_track</th>\n",
       "      <th>vocab</th>\n",
       "    </tr>\n",
       "  </thead>\n",
       "  <tbody>\n",
       "    <tr>\n",
       "      <th>0</th>\n",
       "      <td>0</td>\n",
       "      <td>85862</td>\n",
       "      <td>52933</td>\n",
       "      <td>103</td>\n",
       "      <td>28</td>\n",
       "      <td>False</td>\n",
       "      <td>1</td>\n",
       "    </tr>\n",
       "    <tr>\n",
       "      <th>1</th>\n",
       "      <td>4</td>\n",
       "      <td>346334</td>\n",
       "      <td>24922</td>\n",
       "      <td>243</td>\n",
       "      <td>59</td>\n",
       "      <td>False</td>\n",
       "      <td>2</td>\n",
       "    </tr>\n",
       "  </tbody>\n",
       "</table>\n",
       "</div>"
      ],
      "text/plain": [
       "   index  trackId  artistId  train_track_counts  test_track_counts  del_track  \\\n",
       "0      0    85862     52933                 103                 28      False   \n",
       "1      4   346334     24922                 243                 59      False   \n",
       "\n",
       "   vocab  \n",
       "0      1  \n",
       "1      2  "
      ]
     },
     "execution_count": 85,
     "metadata": {},
     "output_type": "execute_result"
    }
   ],
   "source": [
    "track_artists.head(2)"
   ]
  },
  {
   "cell_type": "markdown",
   "id": "5026aae8",
   "metadata": {},
   "source": [
    "### Создание таблицы `artist_tracks`"
   ]
  },
  {
   "cell_type": "code",
   "execution_count": 17,
   "id": "944a4757",
   "metadata": {},
   "outputs": [],
   "source": [
    "artist_tracks = track_artists.pivot_table(index='artistId', values=['train_track_counts','test_track_counts'], aggfunc='sum')\n",
    "artist_tracks['counts'] = artist_tracks['train_track_counts'] + artist_tracks['test_track_counts']"
   ]
  },
  {
   "cell_type": "markdown",
   "id": "4cebf460",
   "metadata": {},
   "source": [
    "### Создание словаря столбец `vocab` в таблице `artist_tracks`"
   ]
  },
  {
   "cell_type": "code",
   "execution_count": 18,
   "id": "da8d1b23",
   "metadata": {},
   "outputs": [],
   "source": [
    "artist_tracks.reset_index(inplace=True)\n",
    "artist_tracks['vocab'] = list(range(1,len(artist_tracks)+1))"
   ]
  },
  {
   "cell_type": "raw",
   "id": "90c8f8b7",
   "metadata": {},
   "source": [
    "#artist_tracks.to_csv('data/artist_tracks.csv', index=False)\n",
    "artist_tracks = pd.read_csv('data/artist_tracks.csv')"
   ]
  },
  {
   "cell_type": "code",
   "execution_count": null,
   "id": "19c3cf72",
   "metadata": {},
   "outputs": [],
   "source": [
    "artist_tracks.head(2)"
   ]
  },
  {
   "cell_type": "markdown",
   "id": "8154b387",
   "metadata": {},
   "source": [
    "### Разбиение таблиц `train`, `test` на треки"
   ]
  },
  {
   "cell_type": "code",
   "execution_count": 20,
   "id": "798859f8",
   "metadata": {},
   "outputs": [
    {
     "name": "stderr",
     "output_type": "stream",
     "text": [
      "100%|██████████| 1160084/1160084 [00:20<00:00, 57853.31it/s]\n"
     ]
    }
   ],
   "source": [
    "train = splitting_tracks(train)"
   ]
  },
  {
   "cell_type": "code",
   "execution_count": 21,
   "id": "e1fe918f",
   "metadata": {},
   "outputs": [
    {
     "name": "stderr",
     "output_type": "stream",
     "text": [
      "100%|██████████| 289914/289914 [00:05<00:00, 57842.55it/s]\n"
     ]
    }
   ],
   "source": [
    "test = splitting_tracks(test)"
   ]
  },
  {
   "cell_type": "markdown",
   "id": "705fe127",
   "metadata": {},
   "source": [
    "### Удаление из `train`, `test` треков `del_track`"
   ]
  },
  {
   "cell_type": "code",
   "execution_count": 22,
   "id": "10fdb790",
   "metadata": {
    "scrolled": true
   },
   "outputs": [
    {
     "name": "stderr",
     "output_type": "stream",
     "text": [
      "100%|██████████| 364494/364494 [39:58<00:00, 151.99it/s]\n",
      "100%|██████████| 1160084/1160084 [00:07<00:00, 154677.98it/s]\n"
     ]
    }
   ],
   "source": [
    "train = tracks_del_track(track_artists_del, train)"
   ]
  },
  {
   "cell_type": "code",
   "execution_count": 23,
   "id": "1541f4db",
   "metadata": {},
   "outputs": [
    {
     "name": "stderr",
     "output_type": "stream",
     "text": [
      "100%|██████████| 364494/364494 [09:58<00:00, 609.33it/s]\n",
      "100%|██████████| 289914/289914 [00:01<00:00, 153566.87it/s]\n"
     ]
    }
   ],
   "source": [
    "test = tracks_del_track(track_artists_del, test)"
   ]
  },
  {
   "cell_type": "markdown",
   "id": "b890e3ef",
   "metadata": {},
   "source": [
    "### Создание таблиц `train_artists`, `test_artists`\n",
    "Замена id треков, на id артистов."
   ]
  },
  {
   "cell_type": "code",
   "execution_count": null,
   "id": "021b3239",
   "metadata": {},
   "outputs": [],
   "source": [
    "train_artists = create_artists(train, track_artists)"
   ]
  },
  {
   "cell_type": "code",
   "execution_count": null,
   "id": "d7ad655f",
   "metadata": {},
   "outputs": [],
   "source": [
    "test_artists = create_artists(test, track_artists)"
   ]
  },
  {
   "cell_type": "markdown",
   "id": "c3778029",
   "metadata": {},
   "source": [
    "### Создание таблиц `all_tracks` и `all_artists`\n",
    "Объединение датасетов train + test"
   ]
  },
  {
   "cell_type": "code",
   "execution_count": 25,
   "id": "3265d50e",
   "metadata": {},
   "outputs": [],
   "source": [
    "all_tracks = np.concatenate((train, test), axis=0)\n",
    "all_artists = np.concatenate((train_artists, test_artists), axis=0)\n",
    "all_tracks.shape, all_artists.shape\n",
    "del train, train_artists"
   ]
  },
  {
   "cell_type": "markdown",
   "id": "2beb8527",
   "metadata": {},
   "source": [
    "### Сохранение/загрузка таблиц `all_tracks`, `all_artists`, `test`, `test_artists`."
   ]
  },
  {
   "cell_type": "raw",
   "id": "ee8cc45e",
   "metadata": {},
   "source": [
    "np.save('data/all_tracks', all_tracks)\n",
    "np.save('data/all_artists', all_artists)\n",
    "np.save('data/test', test)\n",
    "np.save('data/test_artists', test_artists)"
   ]
  },
  {
   "cell_type": "raw",
   "id": "03185b89",
   "metadata": {},
   "source": [
    "all_tracks = np.load('data/all_tracks.npy')\n",
    "all_artists = np.load('data/all_artists.npy')\n",
    "test = np.load('data/test.npy')\n",
    "test_artists = np.load('data/test_artists.npy')"
   ]
  },
  {
   "cell_type": "markdown",
   "id": "6d6ee644",
   "metadata": {},
   "source": [
    "### Применение словаря к `all_tracks`, `all_artists`, `test`, `test_artists`."
   ]
  },
  {
   "cell_type": "code",
   "execution_count": null,
   "id": "ea9d93cf",
   "metadata": {},
   "outputs": [],
   "source": [
    "all_tracks_vocab = vocab_use(all_tracks, track_artists, 'trackId')\n",
    "all_artists_vocab = vocab_use(all_artists, artist_tracks, 'artistId')\n",
    "test_vocab = vocab_use(test, track_artists, 'trackId')\n",
    "test_artists_vocab = vocab_use(test_artists, artist_tracks, 'artistId')\n",
    "del all_tracks, all_artists, test, test_artists"
   ]
  },
  {
   "cell_type": "markdown",
   "id": "680341f4",
   "metadata": {},
   "source": [
    "### Сохранение/загрузка таблиц `all_tracks_vocab`, `all_artists_vocab`, `test_vocab`, `test_artists_vocab`."
   ]
  },
  {
   "cell_type": "raw",
   "id": "d625b3c9",
   "metadata": {},
   "source": [
    "np.save('data/all_tracks_vocab', all_tracks_vocab)\n",
    "np.save('data/all_artists_vocab', all_artists_vocab)\n",
    "np.save('data/test_vocab', test_vocab)\n",
    "np.save('data/test_artists_vocab', test_artists_vocab)"
   ]
  },
  {
   "cell_type": "code",
   "execution_count": 14,
   "id": "e10efab8",
   "metadata": {},
   "outputs": [],
   "source": [
    "all_tracks_vocab = np.load('data/all_tracks_vocab.npy')\n",
    "all_artists_vocab = np.load('data/all_artists_vocab.npy')\n",
    "test_vocab = np.load('data/test_vocab.npy')\n",
    "test_artists_vocab = np.load('data/test_artists_vocab.npy')"
   ]
  },
  {
   "cell_type": "markdown",
   "id": "737d3271",
   "metadata": {},
   "source": [
    "### Выделение `last_like` в качестве целевой функции"
   ]
  },
  {
   "cell_type": "code",
   "execution_count": 13,
   "id": "dce8243e",
   "metadata": {},
   "outputs": [
    {
     "name": "stderr",
     "output_type": "stream",
     "text": [
      "100%|██████████| 1449998/1449998 [00:49<00:00, 29278.69it/s]\n"
     ]
    }
   ],
   "source": [
    "last_like = np.zeros(len(all_tracks_vocab),  dtype='int32')\n",
    "del_index_row = list()\n",
    "for i in tqdm(range(len(last_like))):\n",
    "    for j in range(256):\n",
    "        if all_tracks_vocab[i][j] == 0:\n",
    "            if j in [0]:\n",
    "                del_index_row.append(i)\n",
    "                break\n",
    "            last_like[i] = all_tracks_vocab[i][j-1]\n",
    "            all_tracks_vocab[i][j-1] = 0\n",
    "            all_artists_vocab[i][j-1] = 0\n",
    "            break\n",
    "        if j == 255:\n",
    "            last_like[i] = all_tracks_vocab[i][j]\n",
    "            all_tracks_vocab[i][j] = 0\n",
    "            all_artists_vocab[i][j] = 0"
   ]
  },
  {
   "cell_type": "code",
   "execution_count": 14,
   "id": "41814269",
   "metadata": {},
   "outputs": [
    {
     "name": "stdout",
     "output_type": "stream",
     "text": [
      "Число строк на удаление 2224\n",
      "Останется строк 1447774\n"
     ]
    }
   ],
   "source": [
    "print(f'Число строк на удаление {len(del_index_row)}')\n",
    "print(f'Останется строк {len(last_like) - len(del_index_row)}')"
   ]
  },
  {
   "cell_type": "markdown",
   "id": "5e0cb389",
   "metadata": {},
   "source": [
    "### Удаление строк в `last_like`, `all_tracks_vocab`, `all_artists_vocab`."
   ]
  },
  {
   "cell_type": "code",
   "execution_count": 15,
   "id": "787fa6c2",
   "metadata": {},
   "outputs": [],
   "source": [
    "all_tracks_vocab = np.delete(all_tracks_vocab, del_index_row, axis=0)\n",
    "all_artists_vocab = np.delete(all_artists_vocab, del_index_row, axis=0)\n",
    "last_like = np.delete(last_like, del_index_row, axis=0)\n",
    "del del_index_row"
   ]
  },
  {
   "cell_type": "code",
   "execution_count": 16,
   "id": "76a31ca8",
   "metadata": {},
   "outputs": [
    {
     "data": {
      "text/plain": [
       "((1447774, 256), (1447774, 256), (1447774,))"
      ]
     },
     "execution_count": 16,
     "metadata": {},
     "output_type": "execute_result"
    }
   ],
   "source": [
    "all_tracks_vocab.shape, all_artists_vocab.shape, last_like.shape"
   ]
  },
  {
   "cell_type": "markdown",
   "id": "2f4edc6f",
   "metadata": {},
   "source": [
    "## Создание эмбеддингов"
   ]
  },
  {
   "cell_type": "markdown",
   "id": "fde7a0fc",
   "metadata": {},
   "source": [
    "### Создание сетки."
   ]
  },
  {
   "cell_type": "code",
   "execution_count": 15,
   "id": "0fc582ac",
   "metadata": {},
   "outputs": [],
   "source": [
    "class CBOW_Model(nn.Module):\n",
    "    def __init__(self, vocab_size_in, vocab_size_out):\n",
    "        super(CBOW_Model, self).__init__()\n",
    "        self.embeddings = nn.Embedding(vocab_size_in, 192, padding_idx=0)\n",
    "        self.norm = nn.LayerNorm((192,), eps=1e-12, elementwise_affine=True)\n",
    "        self.drop = nn.Dropout(p=0.1, inplace=False)\n",
    "        self.linear1 = nn.Linear(in_features=192, out_features=192, bias=True)        \n",
    "#         self.linear2 = nn.Linear(in_features=EMB_DIM, out_features=3072, bias=True)\n",
    "#         self.linear3 = nn.Linear(in_features=3072, out_features=EMB_DIM, bias=True)\n",
    "        self.linear4 = nn.Linear(in_features=192, out_features=1536, bias=True)\n",
    "        self.linear5 = nn.Linear(in_features=1536, out_features=192, bias=True)\n",
    "        self.linear6 = nn.Linear(in_features=192, out_features=vocab_size_out)\n",
    "        self.sm = nn.Softmax(dim=1)\n",
    "        \n",
    "    def forward(self, inputs_):\n",
    "        x = self.embeddings(inputs_)\n",
    "        x = self.norm(x)\n",
    "        x = self.drop(x)\n",
    "        x = self.linear1(x)\n",
    "        x = x.mean(axis=1)\n",
    "        x = self.norm(x)\n",
    "#         x = self.drop(x)\n",
    "#         x = self.linear2(x)\n",
    "#         x = F.gelu(x, approximate='none')\n",
    "#         x = self.linear3(x)\n",
    "#         x = self.norm(x)\n",
    "        x = self.drop(x)\n",
    "        x = self.linear4(x)\n",
    "        x = F.gelu(x, approximate='none')\n",
    "        x = self.linear5(x)\n",
    "        x = self.norm(x)\n",
    "        emb = x\n",
    "        x = self.drop(x)\n",
    "        x = self.linear6(x)\n",
    "        return x, emb\n",
    "    \n",
    "    def inference(self, x):\n",
    "        x, _ = self.forward(x)\n",
    "        x = self.sm(x)\n",
    "        return x"
   ]
  },
  {
   "cell_type": "markdown",
   "id": "c8aba447",
   "metadata": {},
   "source": [
    "### DataLoader `all_tracks_vocab`"
   ]
  },
  {
   "cell_type": "code",
   "execution_count": 18,
   "id": "2d52a9bf",
   "metadata": {},
   "outputs": [],
   "source": [
    "X_train, X_valid, y_train, y_valid = train_test_split(all_tracks_vocab, last_like, test_size=0.018, shuffle=True, random_state=RANDOM)\n",
    "X_train_tensor = torch.tensor(X_train.astype('int32'))\n",
    "y_train_tensor = torch.tensor(y_train.astype('int32')).type(torch.LongTensor)\n",
    "X_valid_tensor = torch.tensor(X_valid.astype('int32'))\n",
    "y_valid = y_valid.astype('int32')\n",
    "\n",
    "train = data_utils.TensorDataset(X_train_tensor, y_train_tensor)\n",
    "train_loader = data_utils.DataLoader(train, batch_size=BATCH_SIZE, shuffle=True)"
   ]
  },
  {
   "cell_type": "markdown",
   "id": "37d8d0a6",
   "metadata": {},
   "source": [
    "### Обучение на `all_tracks_vocab`."
   ]
  },
  {
   "cell_type": "code",
   "execution_count": 19,
   "id": "efce48d7",
   "metadata": {
    "scrolled": false
   },
   "outputs": [
    {
     "name": "stdout",
     "output_type": "stream",
     "text": [
      "Epoch: 0, loss: 10.443, mrr: 0.009\n",
      "Epoch: 1, loss: 9.744, mrr: 0.013\n",
      "Epoch: 2, loss: 9.329, mrr: 0.014\n",
      "Epoch: 3, loss: 8.999, mrr: 0.017\n",
      "Epoch: 4, loss: 8.720, mrr: 0.017\n",
      "Epoch: 5, loss: 8.490, mrr: 0.018\n",
      "Epoch: 6, loss: 8.288, mrr: 0.018\n",
      "Epoch: 7, loss: 8.093, mrr: 0.018\n",
      "Epoch: 8, loss: 7.898, mrr: 0.019\n",
      "Epoch: 9, loss: 7.703, mrr: 0.018\n",
      "Epoch: 10, loss: 7.507, mrr: 0.019\n",
      "Epoch: 11, loss: 7.310, mrr: 0.018\n",
      "Epoch: 12, loss: 7.113, mrr: 0.019\n",
      "Epoch: 13, loss: 6.921, mrr: 0.018\n",
      "Epoch: 14, loss: 6.733, mrr: 0.019\n",
      "Epoch: 15, loss: 6.548, mrr: 0.018\n",
      "Epoch: 16, loss: 6.368, mrr: 0.019\n",
      "Epoch: 17, loss: 6.195, mrr: 0.018\n",
      "Epoch: 18, loss: 6.029, mrr: 0.017\n",
      "Epoch: 19, loss: 5.869, mrr: 0.018\n",
      "Epoch: 20, loss: 5.722, mrr: 0.018\n",
      "Epoch: 21, loss: 5.582, mrr: 0.017\n",
      "Epoch: 22, loss: 5.449, mrr: 0.017\n",
      "Epoch: 23, loss: 5.324, mrr: 0.017\n",
      "Epoch: 24, loss: 5.210, mrr: 0.017\n"
     ]
    }
   ],
   "source": [
    "vocab_size_in = len(all_tracks_vocab)+1\n",
    "vocab_size_out = len(track_artists)+1\n",
    "\n",
    "model_emb_tracks = CBOW_Model(vocab_size_in, vocab_size_out).to('cuda')\n",
    "\n",
    "training(model_emb_tracks, train_loader, X_valid_tensor, y_valid, EPOCH, 'tracks')"
   ]
  },
  {
   "cell_type": "markdown",
   "id": "c99767d6",
   "metadata": {},
   "source": [
    "### DataLoader `all_artists_vocab`"
   ]
  },
  {
   "cell_type": "code",
   "execution_count": 20,
   "id": "03e40a16",
   "metadata": {},
   "outputs": [],
   "source": [
    "X_train, X_valid, y_train, y_valid = train_test_split(all_artists_vocab, last_like, test_size=0.018, shuffle=True, random_state=RANDOM)\n",
    "X_train_tensor = torch.tensor(X_train.astype('int32'))\n",
    "y_train_tensor = torch.tensor(y_train.astype('int32')).type(torch.LongTensor)\n",
    "X_valid_tensor = torch.tensor(X_valid.astype('int32'))\n",
    "y_valid = y_valid.astype('int32')\n",
    "\n",
    "train = data_utils.TensorDataset(X_train_tensor, y_train_tensor)\n",
    "train_loader = data_utils.DataLoader(train, batch_size=BATCH_SIZE, shuffle=True)"
   ]
  },
  {
   "cell_type": "markdown",
   "id": "891e5aa4",
   "metadata": {},
   "source": [
    "### Обучение на `all_artists_vocab`."
   ]
  },
  {
   "cell_type": "code",
   "execution_count": 21,
   "id": "e2245651",
   "metadata": {
    "scrolled": true
   },
   "outputs": [
    {
     "name": "stdout",
     "output_type": "stream",
     "text": [
      "Epoch: 0, loss: 10.447, mrr: 0.009\n",
      "Epoch: 1, loss: 9.697, mrr: 0.014\n",
      "Epoch: 2, loss: 9.269, mrr: 0.016\n",
      "Epoch: 3, loss: 8.971, mrr: 0.017\n",
      "Epoch: 4, loss: 8.751, mrr: 0.017\n",
      "Epoch: 5, loss: 8.567, mrr: 0.018\n",
      "Epoch: 6, loss: 8.399, mrr: 0.019\n",
      "Epoch: 7, loss: 8.237, mrr: 0.019\n",
      "Epoch: 8, loss: 8.081, mrr: 0.018\n",
      "Epoch: 9, loss: 7.925, mrr: 0.020\n",
      "Epoch: 10, loss: 7.772, mrr: 0.018\n",
      "Epoch: 11, loss: 7.622, mrr: 0.018\n",
      "Epoch: 12, loss: 7.474, mrr: 0.018\n",
      "Epoch: 13, loss: 7.329, mrr: 0.017\n",
      "Epoch: 14, loss: 7.191, mrr: 0.018\n",
      "Epoch: 15, loss: 7.059, mrr: 0.017\n",
      "Epoch: 16, loss: 6.933, mrr: 0.017\n",
      "Epoch: 17, loss: 6.818, mrr: 0.017\n",
      "Epoch: 18, loss: 6.708, mrr: 0.017\n",
      "Epoch: 19, loss: 6.609, mrr: 0.017\n",
      "Epoch: 20, loss: 6.518, mrr: 0.017\n",
      "Epoch: 21, loss: 6.434, mrr: 0.016\n",
      "Epoch: 22, loss: 6.357, mrr: 0.017\n",
      "Epoch: 23, loss: 6.285, mrr: 0.016\n",
      "Epoch: 24, loss: 6.218, mrr: 0.016\n"
     ]
    }
   ],
   "source": [
    "vocab_size_in = len(all_artists_vocab)+1\n",
    "vocab_size_out = len(track_artists)+1\n",
    "\n",
    "model_emb_artists = CBOW_Model(vocab_size_in, vocab_size_out).to('cuda')\n",
    "\n",
    "training(model_emb_artists, train_loader, X_valid_tensor, y_valid, EPOCH, 'artists')"
   ]
  },
  {
   "cell_type": "markdown",
   "id": "f034926d",
   "metadata": {},
   "source": [
    "## Предсказание на `test_vocab`."
   ]
  },
  {
   "cell_type": "code",
   "execution_count": 18,
   "id": "9ea4dad0",
   "metadata": {},
   "outputs": [
    {
     "name": "stderr",
     "output_type": "stream",
     "text": [
      "289914it [1:16:48, 62.90it/s]\n"
     ]
    }
   ],
   "source": [
    "test = data_utils.TensorDataset(torch.tensor(test_vocab.astype('int32')).to('cuda'))\n",
    "test_loader = data_utils.DataLoader(test, batch_size=1, shuffle=False)\n",
    "\n",
    "model_tracks = torch.load('model/model_emb_tracks_12_mrr_0.019')\n",
    "\n",
    "tracks_logits = predicting(model_tracks, test_loader)"
   ]
  },
  {
   "cell_type": "code",
   "execution_count": 19,
   "id": "3bf834af",
   "metadata": {},
   "outputs": [],
   "source": [
    "np.save('data/tracks_logits', tracks_logits)"
   ]
  },
  {
   "cell_type": "code",
   "execution_count": 20,
   "id": "895c6601",
   "metadata": {},
   "outputs": [
    {
     "data": {
      "text/plain": [
       "(289914, 300)"
      ]
     },
     "execution_count": 20,
     "metadata": {},
     "output_type": "execute_result"
    }
   ],
   "source": [
    "tracks_logits.shape"
   ]
  },
  {
   "cell_type": "markdown",
   "id": "46fff191",
   "metadata": {},
   "source": [
    "## Предсказание на `test_artists_vocab`."
   ]
  },
  {
   "cell_type": "code",
   "execution_count": 21,
   "id": "fcec912b",
   "metadata": {},
   "outputs": [
    {
     "name": "stderr",
     "output_type": "stream",
     "text": [
      "289914it [1:17:34, 62.29it/s]\n"
     ]
    }
   ],
   "source": [
    "test = data_utils.TensorDataset(torch.tensor(test_artists_vocab.astype('int32')).to('cuda'))\n",
    "test_loader = data_utils.DataLoader(test, batch_size=1, shuffle=False)\n",
    "\n",
    "model_artists = torch.load('model/model_emb_artists_9_mrr_0.020')\n",
    "\n",
    "artists_logits = predicting(model_artists, test_loader)"
   ]
  },
  {
   "cell_type": "code",
   "execution_count": 22,
   "id": "1c3370c4",
   "metadata": {},
   "outputs": [],
   "source": [
    "np.save('data/artists_logits', artists_logits)"
   ]
  },
  {
   "cell_type": "code",
   "execution_count": 23,
   "id": "37f5e18c",
   "metadata": {},
   "outputs": [
    {
     "data": {
      "text/plain": [
       "(289914, 300)"
      ]
     },
     "execution_count": 23,
     "metadata": {},
     "output_type": "execute_result"
    }
   ],
   "source": [
    "artists_logits.shape"
   ]
  },
  {
   "cell_type": "markdown",
   "id": "c63be42f",
   "metadata": {},
   "source": [
    "## Объединение предсказаний в итоговый результат"
   ]
  },
  {
   "cell_type": "code",
   "execution_count": 33,
   "id": "207707f4",
   "metadata": {},
   "outputs": [],
   "source": [
    "tracks_logits = np.load('data/tracks_logits.npy')\n",
    "artists_logits = np.load('data/artists_logits.npy')"
   ]
  },
  {
   "cell_type": "code",
   "execution_count": 34,
   "id": "30178056",
   "metadata": {},
   "outputs": [
    {
     "data": {
      "text/plain": [
       "((289914, 300), (289914, 300))"
      ]
     },
     "execution_count": 34,
     "metadata": {},
     "output_type": "execute_result"
    }
   ],
   "source": [
    "tracks_logits.shape, artists_logits.shape"
   ]
  },
  {
   "cell_type": "markdown",
   "id": "d5cb5723",
   "metadata": {},
   "source": [
    "Устранение треков из тестовой выборки"
   ]
  },
  {
   "cell_type": "code",
   "execution_count": 35,
   "id": "1bb3c682",
   "metadata": {},
   "outputs": [
    {
     "name": "stderr",
     "output_type": "stream",
     "text": [
      "100%|██████████| 289914/289914 [00:39<00:00, 7330.84it/s]\n",
      "100%|██████████| 289914/289914 [00:42<00:00, 6785.40it/s]\n"
     ]
    }
   ],
   "source": [
    "tracks_logits_transp = pd.DataFrame(np.concatenate((tracks_logits,test_vocab), axis=1)).T\n",
    "\n",
    "tracks_logits_transp_list = []\n",
    "for i in tqdm(range(len(tracks_logits_transp.T))):    \n",
    "    tracks_logits_transp_list.append(tracks_logits_transp[i].drop_duplicates(keep=False)[:100])\n",
    "tracks_logits = np.array(tracks_logits_transp_list)\n",
    "\n",
    "artists_logits_transp = pd.DataFrame(np.concatenate((artists_logits,test_vocab), axis=1)).T\n",
    "\n",
    "artists_logits_transp_list = []\n",
    "for i in tqdm(range(len(artists_logits_transp.T))):    \n",
    "    artists_logits_transp_list.append(artists_logits_transp[i].drop_duplicates(keep=False)[:100])\n",
    "artists_logits = np.array(artists_logits_transp_list)"
   ]
  },
  {
   "cell_type": "markdown",
   "id": "0fbd8a37",
   "metadata": {},
   "source": [
    "Смешивание логитов tracks и artists: 0,0,1,1,2,2... 49,49"
   ]
  },
  {
   "cell_type": "code",
   "execution_count": 36,
   "id": "26eaa5a6",
   "metadata": {},
   "outputs": [
    {
     "name": "stderr",
     "output_type": "stream",
     "text": [
      "100%|██████████| 100/100 [00:00<00:00, 168.07it/s]\n"
     ]
    }
   ],
   "source": [
    "all_logits = np.zeros((289914, 200))\n",
    "for i in tqdm(range(100)): #по строкам\n",
    "    all_logits[:,i*2] = tracks_logits[:,i]\n",
    "    all_logits[:,i*2+1] = artists_logits[:,i]"
   ]
  },
  {
   "cell_type": "code",
   "execution_count": 37,
   "id": "ada4e41f",
   "metadata": {
    "scrolled": true
   },
   "outputs": [
    {
     "data": {
      "text/plain": [
       "(289914, 200)"
      ]
     },
     "execution_count": 37,
     "metadata": {},
     "output_type": "execute_result"
    }
   ],
   "source": [
    "all_logits.shape"
   ]
  },
  {
   "cell_type": "markdown",
   "id": "33a760cf",
   "metadata": {},
   "source": [
    "Обрезка логитов до 100 с устранением дубликатов"
   ]
  },
  {
   "cell_type": "code",
   "execution_count": 40,
   "id": "a825d897",
   "metadata": {},
   "outputs": [
    {
     "name": "stderr",
     "output_type": "stream",
     "text": [
      "100%|██████████| 289914/289914 [00:42<00:00, 6880.86it/s]\n"
     ]
    }
   ],
   "source": [
    "all_logits_transp = pd.DataFrame(all_logits).T\n",
    "\n",
    "all_logits_transp_list = []\n",
    "for i in tqdm(range(len(all_logits_transp.T))):    \n",
    "    all_logits_transp_list.append(all_logits_transp[i].drop_duplicates(keep='first')[:100])\n",
    "all_logits = np.array(all_logits_transp_list)"
   ]
  },
  {
   "cell_type": "markdown",
   "id": "b356bcb8",
   "metadata": {},
   "source": [
    "Обратное применеие словаря"
   ]
  },
  {
   "cell_type": "code",
   "execution_count": 41,
   "id": "70c74416",
   "metadata": {},
   "outputs": [
    {
     "name": "stderr",
     "output_type": "stream",
     "text": [
      "100%|██████████| 118781/118781 [01:18<00:00, 1520.41it/s]\n"
     ]
    }
   ],
   "source": [
    "tracks_vocab_cp = cp.array(track_artists[['trackId','vocab']].values, dtype='int32')\n",
    "predict_tracks_cp = cp.array(all_logits, dtype='int32')\n",
    "\n",
    "for i in tqdm(range(len(tracks_vocab_cp))):\n",
    "    predict_tracks_cp = cp.where(predict_tracks_cp == tracks_vocab_cp[i][1], x=tracks_vocab_cp[i][0], y=predict_tracks_cp)"
   ]
  },
  {
   "cell_type": "code",
   "execution_count": 42,
   "id": "305b54d5",
   "metadata": {
    "scrolled": true
   },
   "outputs": [
    {
     "data": {
      "text/plain": [
       "(289914, 100)"
      ]
     },
     "execution_count": 42,
     "metadata": {},
     "output_type": "execute_result"
    }
   ],
   "source": [
    "predict_tracks_cp.shape"
   ]
  },
  {
   "cell_type": "markdown",
   "id": "44923f51",
   "metadata": {},
   "source": [
    "## Сохранение сабмита"
   ]
  },
  {
   "cell_type": "code",
   "execution_count": 43,
   "id": "7c430177",
   "metadata": {},
   "outputs": [],
   "source": [
    "np.savetxt('data/result_top100', predict_tracks_cp, fmt='%d', delimiter=' ', newline='\\n', header='', footer='', comments='', encoding=None)"
   ]
  },
  {
   "cell_type": "code",
   "execution_count": null,
   "id": "e1c99d19",
   "metadata": {},
   "outputs": [],
   "source": []
  }
 ],
 "metadata": {
  "kernelspec": {
   "display_name": "Python 3 (ipykernel)",
   "language": "python",
   "name": "python3"
  },
  "language_info": {
   "codemirror_mode": {
    "name": "ipython",
    "version": 3
   },
   "file_extension": ".py",
   "mimetype": "text/x-python",
   "name": "python",
   "nbconvert_exporter": "python",
   "pygments_lexer": "ipython3",
   "version": "3.10.4"
  },
  "toc": {
   "base_numbering": 1,
   "nav_menu": {},
   "number_sections": true,
   "sideBar": true,
   "skip_h1_title": true,
   "title_cell": "Table of Contents",
   "title_sidebar": "Contents",
   "toc_cell": false,
   "toc_position": {
    "height": "calc(100% - 180px)",
    "left": "10px",
    "top": "150px",
    "width": "349.091px"
   },
   "toc_section_display": true,
   "toc_window_display": true
  }
 },
 "nbformat": 4,
 "nbformat_minor": 5
}
